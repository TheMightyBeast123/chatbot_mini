{
 "cells": [
  {
   "cell_type": "code",
   "execution_count": null,
   "id": "631fef09",
   "metadata": {},
   "outputs": [],
   "source": [
    "    "
   ]
  },
  {
   "cell_type": "code",
   "execution_count": null,
   "id": "79625006",
   "metadata": {},
   "outputs": [],
   "source": [
    "import streamlit as st\n",
    "from transformers import pipeline\n",
    "\n",
    "st.set_page_config(page_title=\"NLP HUB\", page_icon=\"</>\", layout=\"wide\")\n",
    "st.title(\"WELCOME TO MY FIRST TRANSFORMER APP\")\n",
    "\n",
    "task = st.selectbox(\n",
    "    \"Select something from below to proceed\",\n",
    "    [\n",
    "        \"Sentiment Analysis\",\n",
    "        \"Named Entity Recognition\",\n",
    "        \"Zero-Shot Classification\",\n",
    "        \"Summarization\",\n",
    "        \"Question Answering\",\n",
    "        \"Text Generation\",\n",
    "    ],\n",
    ")\n",
    "\n",
    "main_text = st.text_area(\"ENTER YOUR TEXT\")\n",
    "\n",
    "ans = \"Nothing here\"\n",
    "\n",
    "if st.button(\"RUN\"):\n",
    "    \n",
    "    if len(main_text.strip()) == 0:\n",
    "        st.warning(\"⚠️ Please enter some text first!\")  \n",
    "    else:\n",
    "        if task == \"Sentiment Analysis\":\n",
    "            model = pipeline(\"sentiment-analysis\")\n",
    "            ans = model(main_text)\n",
    "\n",
    "        elif task == \"Summarization\":\n",
    "            model = pipeline(\"summarization\", model=\"facebook/bart-large-cnn\")\n",
    "            ans = model(main_text, max_length=120, min_length=40, do_sample=False)\n",
    "\n",
    "        elif task == \"Text Generation\":\n",
    "            model = pipeline(\"text-generation\", model=\"gpt2\")\n",
    "            ans = model(main_text, max_length=80, num_return_sequences=1)\n",
    "\n",
    "        elif task == \"Named Entity Recognition\":\n",
    "            model = pipeline(\"ner\", grouped_entities=True, model=\"dslim/bert-base-NER\")\n",
    "            ans = model(main_text)\n",
    "\n",
    "        elif task == \"Question Answering\":\n",
    "         \n",
    "            q = st.text_input(\"Type your question here:\")\n",
    "            if len(q.strip()) == 0:\n",
    "                st.warning(\"⚠️ Please enter a question first!\")\n",
    "            else:\n",
    "                model = pipeline(\"question-answering\", model=\"deepset/roberta-base-squad2\")\n",
    "                ans = model(question=q, context=main_text)\n",
    "\n",
    "        elif task == \"Zero-Shot Classification\":\n",
    "           \n",
    "            labels_raw = st.text_input(\"Enter comma-separated labels:\")\n",
    "            if len(labels_raw.strip()) == 0:\n",
    "                st.warning(\"⚠️ Please enter some labels!\")\n",
    "            else:\n",
    "                labels = [label.strip() for label in labels_raw.split(\",\")]\n",
    "                model = pipeline(\"zero-shot-classification\", model=\"facebook/bart-large-mnli\")\n",
    "                ans = model(main_text, candidate_labels=labels)\n",
    "\n",
    "st.subheader(\"Result\")\n",
    "st.json(ans)\n"
   ]
  }
 ],
 "metadata": {
  "kernelspec": {
   "display_name": "Python 3",
   "language": "python",
   "name": "python3"
  },
  "language_info": {
   "codemirror_mode": {
    "name": "ipython",
    "version": 3
   },
   "file_extension": ".py",
   "mimetype": "text/x-python",
   "name": "python",
   "nbconvert_exporter": "python",
   "pygments_lexer": "ipython3",
   "version": "3.9.13"
  }
 },
 "nbformat": 4,
 "nbformat_minor": 5
}
